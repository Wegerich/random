{
 "cells": [
  {
   "attachments": {},
   "cell_type": "markdown",
   "metadata": {},
   "source": [
    "The Data sources are:\n",
    "\n",
    "### 1. Liam's SPSS coded data\n",
    "**File:** The Loop 2017 Final Interventions.xlsx\n",
    "\n",
    "Exported as Excel from SPSS, keeping the variable names.\n",
    "\n",
    "This file contains 1325 entries.\n",
    "\n",
    "\n",
    "27 have null festival or sample numbers so can't be used, leaving 1298\n",
    "\n",
    "\n",
    "One has sample number 12151, two have sample number 0 - these cannot be merged.\n",
    "\n",
    "\n",
    "This leaves 1295 - all of which can be merged\n",
    "\n",
    "### 2. Guy's cleaned up lab data\n",
    "**File:** Loop 2017 Lab fixed data.csv\n",
    "\n",
    "Saved from: Dropbox/Testing/2017 results processing/Loop 2017 Lab fixed data.xlsm in the ‘Raw Lab Data’ sheet\n",
    "\n",
    "This file contains 2544 entries\n",
    "\n",
    "\n",
    "1900 entries start with F\n",
    "\n",
    "\n",
    "621 entries begin with A (amnesty) so can't be merged\n",
    "\n",
    "\n",
    "23 Begin with W? so can't be merged\n",
    "\n",
    "Festival Names\n",
    "\n",
    "### 3. Boomtown Intervention Questionnaire\n",
    "**File:** BTReport 2017 - Form responses 3.csv\n",
    "\n",
    "Exported from: https://docs.google.com/spreadsheets/d/15pdETY0HK-VbBcV-N0swt6ZrRBbeDnZR5RGDzfq95dg\n",
    "\n",
    "This file contains 194 entries\n",
    "\n",
    "### Merging the data\n",
    "\n",
    "Merging the data on Festival and SampleNumber resulted in 1295 entries\n",
    "\n"
   ]
  },
  {
   "cell_type": "code",
   "execution_count": 14,
   "metadata": {
    "collapsed": true
   },
   "outputs": [],
   "source": [
    "# Module imports\n",
    "import os\n",
    "import pandas as pd"
   ]
  },
  {
   "cell_type": "markdown",
   "metadata": {},
   "source": [
    "Need to consolidate 'Festival' and 'Sample Number' Columns across all datasets\n",
    "* Change all columns to have same name\n",
    "* Ensure sample numbers are all in the same format: FXXXX for FOH samples and AXXXX for Amnesty samples (which have no intervention data/provenance data associated with them)."
   ]
  },
  {
   "cell_type": "code",
   "execution_count": 2,
   "metadata": {
    "collapsed": true
   },
   "outputs": [],
   "source": [
    "bt_interventions = '/opt/random/BTReport 2017 - Form responses 3.csv'"
   ]
  },
  {
   "cell_type": "code",
   "execution_count": 15,
   "metadata": {},
   "outputs": [
    {
     "name": "stdout",
     "output_type": "stream",
     "text": [
      "1298\n"
     ]
    }
   ],
   "source": [
    "spssdata = '/opt/random/The Loop 2017 Final Interventions.xlsx'\n",
    "spss_df = pd.read_excel(spssdata)\n",
    "\n",
    "# Remove SurveyID column\n",
    "spss_df.drop('SurveyID', axis=1, inplace=True)\n",
    "\n",
    "# Change festival names\n",
    "spss_df['Festival'].replace(['BoomTown', 'KC', 'SGP'], ['BT2017', 'KC2017', 'SGP2017'], inplace=True)\n",
    "\n",
    "# Ensure all Sample numbers are consistent\n",
    "# 1. Delete any rows where SampleNumber or Festival is NA as we can't do anything with it\n",
    "spss_df.dropna(subset=['SampleNumber', 'Festival'], inplace=True)\n",
    "# Make all sample numbers a 4-digit code starting with F\n",
    "spss_df['SampleNumber'] = spss_df['SampleNumber'].apply(lambda x: 'F{:04d}'.format(int(x)))\n",
    "\n",
    "# Below shows we are left with 1298 datasets\n",
    "print(len(spss_df))"
   ]
  },
  {
   "cell_type": "code",
   "execution_count": 16,
   "metadata": {
    "scrolled": true
   },
   "outputs": [],
   "source": [
    "labdata = '/opt/random/Loop 2017 Lab fixed data.csv'\n",
    "lab_df = pd.read_csv(labdata, encoding=\"ISO-8859-1\")\n",
    "\n",
    "# Remame 'Event Name' and 'Sample Number' columns so they match\n",
    "lab_df.rename(columns={'Event  Name': 'Festival', 'Sample Number': 'SampleNumber'}, inplace=True)\n",
    "\n",
    "# Delete any rows where SampleNumber or Festival is NA as we can't do anything with it\n",
    "lab_df.dropna(subset=['SampleNumber', 'Festival'], inplace=True)\n",
    "# This just drops one case\n",
    "\n",
    "# Uppercase all sample numbers\n",
    "labels = ['SampleNumber']\n",
    "lab_df.loc[:, labels] = lab_df[labels].apply(lambda x: x.str.upper())\n",
    "\n",
    "# Some sample numbers begin with W or F \n",
    "#print(len(lab_df[ ~ (lab_df['SampleNumber'].str.startswith('F') | lab_df['SampleNumber'].str.startswith('A')) ]))\n",
    "\n"
   ]
  },
  {
   "cell_type": "code",
   "execution_count": null,
   "metadata": {},
   "outputs": [
    {
     "name": "stdout",
     "output_type": "stream",
     "text": [
      "1295 entries were merged\n",
      "    Festival SampleNumber\n",
      "641   BT2017        F0015\n",
      "700   BT2017        F0022\n",
      "701   BT2017        F0023\n",
      "702   BT2017        F0024\n",
      "916   BT2017        F0036\n",
      "650   BT2017        F0074\n",
      "655   BT2017        F0078\n",
      "941   BT2017        F0079\n",
      "631   BT2017        F0081\n",
      "640   BT2017        F0084\n"
     ]
    }
   ],
   "source": [
    "dft = pd.merge(spss_df, lab_df, how='inner', on=['Festival','SampleNumber'])\n",
    "print(\"%d entries were merged\" % len(dft))\n",
    "# Sort\n",
    "dft.sort_values(['Festival', 'SampleNumber'], ascending=True, inplace=True)\n",
    "print(dft[['Festival', 'SampleNumber']][0:10])\n",
    "writer = pd.ExcelWriter('merged.xlsx')\n",
    "dft.to_excel(writer, 'MergedData', index=False)\n",
    "writer.save()\n",
    "\n",
    "# Find out which entries can't be merged - check for right_only\n",
    "#pd.merge(lab_df, spss_df, how='outer', indicator=True)"
   ]
  },
  {
   "cell_type": "code",
   "execution_count": null,
   "metadata": {},
   "outputs": [],
   "source": [
    "# Here we reorder columns that should be identical to:\n",
    "# 1. spot data errors\n",
    "# 2. remove duplicate columns\n",
    "prefix_cols = ['Festival', 'SampleNumber',\n",
    "             'Sample submission time', 'Date & Time of return', 'Day', 'Date', 'Time', \n",
    "             'Client age', 'Age', 'Client gender', 'Gender', 'Bought as', 'SubmittedSubstanceAs']\n",
    "\n",
    "# Get the list of columns excluding the ones in prefix_cols\n",
    "cols = [c for c in dft.columns.tolist() if c not in prefix_cols]\n",
    "# Prepend prefix_cols to create the new list\n",
    "cols = prefix_cols + cols\n",
    "\n",
    "# Reorder columns\n",
    "dft = dft[cols]\n",
    "\n",
    "writer = pd.ExcelWriter('merged2.xlsx')\n",
    "dft.to_excel(writer, 'MergedData', index=False)\n",
    "writer.save()"
   ]
  },
  {
   "cell_type": "code",
   "execution_count": null,
   "metadata": {
    "collapsed": true
   },
   "outputs": [],
   "source": []
  }
 ],
 "metadata": {
  "kernelspec": {
   "display_name": "Python 3",
   "language": "python",
   "name": "python3"
  },
  "language_info": {
   "codemirror_mode": {
    "name": "ipython",
    "version": 3
   },
   "file_extension": ".py",
   "mimetype": "text/x-python",
   "name": "python",
   "nbconvert_exporter": "python",
   "pygments_lexer": "ipython3",
   "version": "3.6.1"
  }
 },
 "nbformat": 4,
 "nbformat_minor": 2
}
