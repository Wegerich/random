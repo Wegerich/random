{
 "cells": [
  {
   "cell_type": "markdown",
   "metadata": {},
   "source": [
    "Issues with MADE dataset:\n",
    "FTIR\n",
    "* Dodgy sample numbers\n",
    "* 2 Hit confidence columns\n",
    "* 2 substance detected columns"
   ]
  },
  {
   "cell_type": "code",
   "execution_count": 1,
   "metadata": {
    "collapsed": true
   },
   "outputs": [],
   "source": [
    "# Module imports\n",
    "import copy\n",
    "import datetime\n",
    "import os\n",
    "import numpy as np\n",
    "import pandas as pd\n",
    "from collections import OrderedDict\n",
    "\n",
    "def fix_sample_number(x):\n",
    "    \"\"\"Make sure all samples numbers are of form: AXXX (where A is one of A, F, W and X is a digit)\"\"\"\n",
    "    if isinstance(x, float) and np.isnan(x):\n",
    "        return x # leave NaN's alone    \n",
    "    try:\n",
    "        sn = int(x)\n",
    "        sn = 'F{:04d}'.format(int(x))\n",
    "    except ValueError:\n",
    "        # Assume string so make sure it's of the right format\n",
    "        sn = str(x).capitalize()\n",
    "    assert sn[0] in ['A', 'F', 'W'], \"Bad ID %s\" % sn\n",
    "    return sn\n",
    "\n",
    "def now():\n",
    "    return datetime.datetime.now().strftime(\"%d/%m/%y %H:%M:%S\")"
   ]
  },
  {
   "cell_type": "code",
   "execution_count": 2,
   "metadata": {
    "collapsed": true
   },
   "outputs": [],
   "source": [
    "ftir_csv = 'MADE/FTIR Analysis Data Recording Form.csv'\n",
    "catalog_csv = 'MADE/Sample Cataloguing Form.csv'\n",
    "reagent_csv = 'MADE/Reagent Outcomes.csv'\n",
    "hr_csv = 'MADE/MADE MAST Intervention Questionnaire.csv'\n",
    "\n",
    "date_cols = ['Timestamp']\n",
    "df_ftir = pd.read_csv(ftir_csv, engine=\"python\", parse_dates=date_cols)\n",
    "df_catalog = pd.read_csv(catalog_csv, engine=\"python\", parse_dates=date_cols)\n",
    "df_reagent = pd.read_csv(reagent_csv, engine=\"python\", parse_dates=date_cols)\n",
    "df_hr = pd.read_csv(hr_csv, engine=\"python\", parse_dates=date_cols)\n",
    "\n",
    "# Sort out column names\n",
    "df_reagent.rename(columns={'Sample Code':'Sample Number', 'Substance(s) detected' : 'Reagent Result'}, inplace=True)\n",
    "df_hr.rename(columns={'Sample Number:':'Sample Number'}, inplace=True)\n",
    "\n",
    "# Make all sample numbers a 4-digit code starting with F\n",
    "df_ftir['Sample Number'] = df_ftir['Sample Number'].apply(fix_sample_number)\n",
    "df_catalog['Sample Number'] = df_catalog['Sample Number'].apply(fix_sample_number)\n",
    "df_reagent['Sample Number'] = df_reagent['Sample Number'].apply(fix_sample_number)\n",
    "df_hr['Sample Number'] = df_hr['Sample Number'].apply(fix_sample_number)"
   ]
  },
  {
   "cell_type": "code",
   "execution_count": 3,
   "metadata": {},
   "outputs": [],
   "source": [
    "mla_excel = 'MADE/MADE - Loop 2018 event results sheet_.xlsx'\n",
    "df_mla = pd.read_excel(mla_excel, sheetname='MLA', header=1)\n",
    "df_mla.rename(columns={'Sample Num':'Sample Number'}, inplace=True)\n",
    "df_mla['Sample Number'] = df_mla['Sample Number'].apply(fix_sample_number)\n",
    "# Prune down to valid sample numbers\n",
    "df_mla = df_mla[df_mla['Sample Number'].notnull()]"
   ]
  },
  {
   "cell_type": "code",
   "execution_count": 4,
   "metadata": {},
   "outputs": [
    {
     "name": "stdout",
     "output_type": "stream",
     "text": [
      "Duplicated catalog sample numbers\n",
      "             Timestamp Sample Number Your initials Sample Source  \\\n",
      "22 2018-07-28 14:34:58         F0023            JF        Public   \n",
      "27 2018-07-28 15:10:42         F0023            JF        Public   \n",
      "\n",
      "   Sample Advertised/Acquired/Sold As  \\\n",
      "22                               MDMA   \n",
      "27                               MDMA   \n",
      "\n",
      "   Has the Service User or a close friend tried this batch? User Suspicion  \\\n",
      "22                                                 No                  NaN   \n",
      "27                                                 No                  NaN   \n",
      "\n",
      "             Sample Form What is the logo?  \\\n",
      "22  Partial ecstasy pill               n/a   \n",
      "27  Partial ecstasy pill               NaN   \n",
      "\n",
      "   Which device was a photo taken with? Who does it belong to?  \\\n",
      "22   N/A: fragment too small, doesn't warrant a photo            \n",
      "27                                                NaN            \n",
      "\n",
      "    What is the mass? (mg) What is the shape of the pill?  \\\n",
      "22                     NaN                            NaN   \n",
      "27                     NaN                            NaN   \n",
      "\n",
      "   Is a breakline present? Unusual appearance What colour is the pill?  \n",
      "22                     NaN                NaN                    Green  \n",
      "27                     NaN                NaN                      NaN  \n",
      "Duplicated FTIR sample numbers\n",
      "             Timestamp Sample Number Your name and surname initial  \\\n",
      "28 2018-07-28 15:44:52         F0005                        Alex B   \n",
      "29 2018-07-28 15:54:35         F0005                        Alex B   \n",
      "42 2018-07-28 18:11:17         A0057                            GP   \n",
      "43 2018-07-28 18:25:34         A0057                         Dev R   \n",
      "\n",
      "                  Sample Sold As     Sample Form  \\\n",
      "28                          MDMA  Ecstasy Tablet   \n",
      "29                          MDMA  Ecstasy Tablet   \n",
      "42  Found or otherwise not known  Ecstasy Tablet   \n",
      "43  Found or otherwise not known  Ecstasy Tablet   \n",
      "\n",
      "   Has the Service User or a close friend tried this batch?  \\\n",
      "28                                                Yes         \n",
      "29                                                 No         \n",
      "42                                                 No         \n",
      "43                                                 No         \n",
      "\n",
      "                 User Suspicion              Substance detected  \\\n",
      "28  Roughly what it was sold as                            MDMA   \n",
      "29                          NaN                            MDMA   \n",
      "42                          NaN                         Cocaine   \n",
      "43                          NaN  No active component identified   \n",
      "\n",
      "    Hit Confidence Compound detected              ...                \\\n",
      "28           460.0               NaN              ...                 \n",
      "29           406.0               NaN              ...                 \n",
      "42           565.0               NaN              ...                 \n",
      "43             NaN               NaN              ...                 \n",
      "\n",
      "    Compound detected (Subtraction) Hit Confidence.2 Substance detected.1  \\\n",
      "28                              NaN              NaN                  NaN   \n",
      "29                              NaN              NaN                  NaN   \n",
      "42                            Other            261.0         Titanic Acid   \n",
      "43                              NaN              NaN                  NaN   \n",
      "\n",
      "   Hit Confidence.3  Brief Note.1              Analysis required  \\\n",
      "28              NaN           NaN                  Pill strength   \n",
      "29              NaN           NaN                            NaN   \n",
      "42            261.0           NaN                Reagent Testing   \n",
      "43              NaN           NaN  Pill strength;Reagent Testing   \n",
      "\n",
      "    Substance(s) detected                   \"Strength\" of powdered substance  \\\n",
      "28                   MDMA  This sample is a pill or tablet containing binder   \n",
      "29                   mdma  This sample is a pill or tablet containing binder   \n",
      "42                Cocaine                               2 (average strength)   \n",
      "43                   MDMA  This sample is a pill or tablet containing binder   \n",
      "\n",
      "   Does the substance detected match the substance that was advertised?  \\\n",
      "28                                                Yes                     \n",
      "29                                                Yes                     \n",
      "42     Sample was found or otherwise unknown identity                     \n",
      "43     Sample was found or otherwise unknown identity                     \n",
      "\n",
      "   Note for harm reduction worker  \n",
      "28                            NaN  \n",
      "29                            NaN  \n",
      "42                            NaN  \n",
      "43                Low amount MDMA  \n",
      "\n",
      "[4 rows x 23 columns]\n",
      "Please fix duplicated values\n"
     ]
    }
   ],
   "source": [
    "# Check for duplicates\n",
    "if df_catalog['Sample Number'].duplicated().any():\n",
    "    print(\"Duplicated catalog sample numbers\")\n",
    "    print(df_catalog[df_catalog['Sample Number'].duplicated(keep=False)])\n",
    "if df_ftir['Sample Number'].duplicated().any():\n",
    "    print(\"Duplicated FTIR sample numbers\")\n",
    "    print(df_ftir[df_ftir['Sample Number'].duplicated(keep=False)])\n",
    "if df_reagent['Sample Number'].duplicated().any():\n",
    "    print(\"Duplicated catalog sample numbers\")\n",
    "    print(df_reagent[df_reagent['Sample Number'].duplicated(keep=False)])\n",
    "if df_hr['Sample Number'].duplicated().any():\n",
    "    print(\"Duplicated catalog sample numbers\")\n",
    "    print(df_hr[df_hr['Sample Number'].duplicated(keep=False)])\n",
    "if df_mla['Sample Number'].duplicated().any():\n",
    "    print(\"Duplicated MLA sample numbers\")\n",
    "    print(df_mla[df_mla['Sample Number'].duplicated(keep=False)])\n",
    "    \n",
    "    \n",
    "if df_catalog['Sample Number'].duplicated().any() or \\\n",
    "    df_ftir['Sample Number'].duplicated().any() or \\\n",
    "    df_reagent['Sample Number'].duplicated().any() or \\\n",
    "    df_hr['Sample Number'].duplicated().any() or \\\n",
    "    df_mla['Sample Number'].duplicated().any():\n",
    "\n",
    "    outs = 'Please fix duplicated values'\n",
    "    print(outs)\n",
    "#     raise RuntimeError(outs)"
   ]
  },
  {
   "cell_type": "code",
   "execution_count": 5,
   "metadata": {},
   "outputs": [
    {
     "name": "stdout",
     "output_type": "stream",
     "text": [
      "Orphaned FTIR sample numbers: set(['F0547'])\n",
      "Orphaned HR sample numbers: set(['F0000'])\n",
      "Sample numbers only in catalog: set(['F0006', 'A0056', 'A0054', 'A0053', 'A0052', 'A0051'])\n",
      "Please fix orphaned/catalog only samples\n"
     ]
    }
   ],
   "source": [
    "# Check there are no sample numbers in any of the other spreadsheets that aren't in the cataolog sheet\n",
    "catalog_unique = set(df_catalog['Sample Number'].unique())\n",
    "\n",
    "ftir_unique = set(df_ftir['Sample Number'].unique()).difference(catalog_unique)\n",
    "if ftir_unique:\n",
    "    print(\"Orphaned FTIR sample numbers: %s\" % ftir_unique)\n",
    "\n",
    "reagent_unique = set(df_reagent['Sample Number'].unique()).difference(catalog_unique)\n",
    "if reagent_unique:\n",
    "    print(\"Orphaned Reagent Test sample numbers: %s\" % reagent_unique)\n",
    "\n",
    "hr_unique = set(df_hr['Sample Number'].unique()).difference(catalog_unique)\n",
    "if hr_unique:\n",
    "    print(\"Orphaned HR sample numbers: %s\" % hr_unique)\n",
    "    \n",
    "mla_unique = set(df_mla['Sample Number'].unique()).difference(catalog_unique)\n",
    "if mla_unique:\n",
    "    print(\"Orphaned MLA sample numbers: %s\" % mla_unique)\n",
    "    \n",
    "# Check for any that are only in the catalog\n",
    "outside_catalog = set(df_ftir['Sample Number'].unique())\n",
    "outside_catalog.update(set(df_reagent['Sample Number'].unique()))\n",
    "outside_catalog.update(set(df_hr['Sample Number'].unique()))\n",
    "outside_catalog.update(set(df_mla['Sample Number'].unique()))\n",
    "catalog_only = catalog_unique.difference(outside_catalog)\n",
    "if catalog_only:\n",
    "    print(\"Sample numbers only in catalog: %s\" % catalog_only)\n",
    "\n",
    "all_unique = copy.copy(ftir_unique)\n",
    "all_unique.update(reagent_unique, hr_unique, mla_unique)\n",
    "if (all_unique or catalog_only):\n",
    "    outs = \"Please fix orphaned/catalog only samples\"\n",
    "    print(outs)\n",
    "    #raise RuntimeError(outs)"
   ]
  },
  {
   "cell_type": "code",
   "execution_count": 6,
   "metadata": {
    "collapsed": true
   },
   "outputs": [],
   "source": [
    "# Clean up catalog\n",
    "# Drop all unwanted columns\n",
    "l = ['Your initials',\n",
    "     'Which device was a photo taken with? Who does it belong to?',\n",
    "     'Is a breakline present?',\n",
    "     'Unusual appearance'\n",
    "    ]\n",
    "df_catalog.drop(l, axis=1, inplace=True)\n",
    "\n",
    "d = {\n",
    "    'Timestamp' : 'Catalog timestamp',\n",
    "    'Sample Advertised/Acquired/Sold As': 'Catalog Sold As',\n",
    "    'Sample Form' : 'Catalog form',\n",
    "    'Has the Service User or a close friend tried this batch?': 'Catalog tried',\n",
    "    'What is the mass? (mg)': 'Full pill mass',\n",
    "    'What is the shape of the pill?': 'Pill shape',\n",
    "    'What is the logo?': 'Pill logo',\n",
    "    'What colour is the pill?': 'Pill colour'\n",
    "}\n",
    "df_catalog.rename(columns=d, inplace=True)"
   ]
  },
  {
   "cell_type": "code",
   "execution_count": 7,
   "metadata": {
    "collapsed": true
   },
   "outputs": [],
   "source": [
    "# For FTIR columns need to merge the data from the 'Compound detected', 'Hit Confidence.1' columns into the\n",
    "# 'Substance detected', 'Hit Confidence' column where the substance detected was 'other'\n",
    "mask = df_ftir['Substance detected'] != 'Other'\n",
    "df_ftir['Substance detected'].where(mask, df_ftir['Compound detected'], inplace=True) # Copy values from 'Compound detected'\n",
    "df_ftir['Hit Confidence'].where(mask, df_ftir['Hit Confidence.1'], inplace=True)\n",
    "df_ftir.drop(['Compound detected', 'Hit Confidence.1', 'Brief Note'], axis=1, inplace=True)\n",
    "\n",
    "mask = df_ftir['Compound detected (Subtraction)'] != 'Other'\n",
    "df_ftir['Compound detected (Subtraction)'].where(mask, df_ftir['Substance detected.1'], inplace=True) # Copy values from 'Compound detected'\n",
    "df_ftir['Hit Confidence.2'].where(mask, df_ftir['Hit Confidence.3'], inplace=True)\n",
    "df_ftir.drop(['Substance detected.1', 'Hit Confidence.3', 'Brief Note.1'], axis=1, inplace=True)\n",
    "\n",
    "# Drop all unwanted columns\n",
    "l = ['Your name and surname initial',\n",
    "     'User Suspicion',\n",
    "     'Is anything detected after subtraction analysis?',\n",
    "     'Analysis required',\n",
    "     'Note for harm reduction worker'\n",
    "    ]\n",
    "df_ftir.drop(l, axis=1, inplace=True)\n",
    "\n",
    "# Rename shared columns so that we can check for any errors and remove any columns not of interest to the master df\n",
    "d = {\n",
    "    'Timestamp' : 'FTIR timestamp',\n",
    "    'Sample Sold As': 'FTIR Sold As',\n",
    "    'Sample Form' : 'FTIR form',\n",
    "    'Has the Service User or a close friend tried this batch?': 'FTIR tried',\n",
    "    'Substance(s) detected' : 'FTIR final result',\n",
    "    'Substance detected' : 'FTIR result1',\n",
    "    'Hit Confidence' :  'FTIR hit1',\n",
    "    'Is anything detected after subtraction analysis?' : 'FTIR subtraction positive',\n",
    "    'Compound detected (Subtraction)' :  'FTIR result2',\n",
    "    'Hit Confidence.2' :  'FTIR hit2',\n",
    "    '\"Strength\" of powdered substance' : 'FTIR Powder Strength',\n",
    "    'Does the substance detected match the substance that was advertised?' : 'FTIR Matches Sold As',\n",
    "}\n",
    "df_ftir.rename(columns=d, inplace=True)"
   ]
  },
  {
   "cell_type": "code",
   "execution_count": 8,
   "metadata": {
    "collapsed": true
   },
   "outputs": [],
   "source": [
    "# Clean up HR form\n",
    "\n",
    "# Drop all unwanted columns\n",
    "l = ['HR worker name:']\n",
    "df_hr.drop(l, axis=1, inplace=True)\n",
    "\n",
    "# Rename shared columns so that we can check for any errors and remove any columns not of interest to the master df\n",
    "d = {\n",
    "    'Timestamp' : 'HR timestamp',\n",
    "    'You submitted a substance for analysis. What were you told it was when you got it?': 'HR Sold as',\n",
    "    'Had you already tried this substance before getting it tested?': 'HR tried',\n",
    "    'What was your first sample number at this event? Did you take a photo or keep the ticket?': 'Previous Sample Number'\n",
    "}\n",
    "df_hr.rename(columns=d, inplace=True)"
   ]
  },
  {
   "cell_type": "code",
   "execution_count": 9,
   "metadata": {
    "collapsed": true
   },
   "outputs": [],
   "source": [
    "# Catalog and FTIR data frames\n",
    "df_all = pd.merge(df_catalog, df_ftir, how='left', on=['Sample Number'])"
   ]
  },
  {
   "cell_type": "code",
   "execution_count": 10,
   "metadata": {
    "collapsed": true
   },
   "outputs": [],
   "source": [
    "# Merge in any reagent test data\n",
    "df_all = pd.merge(df_all, df_reagent[['Sample Number', 'Reagent Result']], how='left', on=['Sample Number'])"
   ]
  },
  {
   "cell_type": "code",
   "execution_count": 11,
   "metadata": {
    "collapsed": true
   },
   "outputs": [],
   "source": [
    "# Merge in any pill strength data\n",
    "df_all = pd.merge(df_all, df_mla[['Sample Number', 'MDMA / tablet (mg)', '% MDMA content']], how='left', on=['Sample Number'])"
   ]
  },
  {
   "cell_type": "code",
   "execution_count": 12,
   "metadata": {
    "collapsed": true
   },
   "outputs": [],
   "source": [
    "# Merge in HR data\n",
    "df_all = pd.merge(df_all, df_hr, how='left', on=['Sample Number'])"
   ]
  },
  {
   "cell_type": "code",
   "execution_count": 13,
   "metadata": {},
   "outputs": [],
   "source": [
    "# Fix column orders\n",
    "prefix = ['Sample Number',\n",
    "          'Catalog timestamp', 'FTIR timestamp', 'HR timestamp',\n",
    "          'Catalog Sold As', 'FTIR Sold As','HR Sold as', \n",
    "          'Catalog form', 'FTIR form',\n",
    "          'Catalog tried', 'FTIR tried', 'HR tried']\n",
    "columns = [c for c in df_all.columns if c not in prefix]\n",
    "columns = prefix + columns\n",
    "df_all = df_all[columns]\n",
    "df_all.to_csv('foo.csv')"
   ]
  },
  {
   "cell_type": "code",
   "execution_count": null,
   "metadata": {
    "collapsed": true
   },
   "outputs": [],
   "source": []
  }
 ],
 "metadata": {
  "kernelspec": {
   "display_name": "Python 2",
   "language": "python",
   "name": "python2"
  },
  "language_info": {
   "codemirror_mode": {
    "name": "ipython",
    "version": 2
   },
   "file_extension": ".py",
   "mimetype": "text/x-python",
   "name": "python",
   "nbconvert_exporter": "python",
   "pygments_lexer": "ipython2",
   "version": "2.7.13"
  }
 },
 "nbformat": 4,
 "nbformat_minor": 2
}
