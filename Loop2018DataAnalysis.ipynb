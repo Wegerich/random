{
 "cells": [
  {
   "cell_type": "markdown",
   "metadata": {},
   "source": [
    "Issues with MADE dataset:\n",
    "FTIR\n",
    "* Dodgy sample numbers\n",
    "* 2 Hit confidence columns\n",
    "* 2 substance detected columns"
   ]
  },
  {
   "cell_type": "code",
   "execution_count": 25,
   "metadata": {
    "collapsed": true
   },
   "outputs": [],
   "source": [
    "# Module imports\n",
    "import datetime\n",
    "import os\n",
    "import numpy as np\n",
    "import pandas as pd\n",
    "from collections import OrderedDict\n",
    "\n",
    "def fix_sample_number(x):\n",
    "    \"\"\"Make sure all samples numbers are of form: AXXX (where A is one of A, F, W and X is a digit)\"\"\"\n",
    "    if isinstance(x, float) and np.isnan(x):\n",
    "        return x # leave NaN's alone    \n",
    "    try:\n",
    "        sn = int(x)\n",
    "        sn = 'F{:04d}'.format(int(x))\n",
    "    except ValueError:\n",
    "        # Assume string so make sure it's of the right format\n",
    "        sn = str(x).capitalize()\n",
    "    assert sn[0] in ['A', 'F', 'W'], \"Bad ID %s\" % sn\n",
    "    return sn\n",
    "\n",
    "def now():\n",
    "    return datetime.datetime.now().strftime(\"%d/%m/%y %H:%M:%S\")"
   ]
  },
  {
   "cell_type": "code",
   "execution_count": 26,
   "metadata": {},
   "outputs": [],
   "source": [
    "ftir_csv = 'MADE/FTIR Analysis Data Recording Form.csv'\n",
    "catalog_csv = 'MADE/Sample Cataloguing Form.csv'\n",
    "reagent_csv = 'MADE/Reagent Outcomes.csv'\n",
    "hr_csv = 'MADE/MADE MAST Intervention Questionnaire.csv'\n",
    "\n",
    "date_cols = ['Timestamp']\n",
    "df_ftir = pd.read_csv(ftir_csv, engine=\"python\", parse_dates=date_cols)\n",
    "df_catalog = pd.read_csv(catalog_csv, engine=\"python\", parse_dates=date_cols)\n",
    "df_reagent = pd.read_csv(reagent_csv, engine=\"python\", parse_dates=date_cols)\n",
    "df_hr = pd.read_csv(hr_csv, engine=\"python\", parse_dates=date_cols)\n",
    "\n",
    "\n",
    "# Sort out column names\n",
    "df_reagent.rename(columns={'Sample Code':'Sample Number'}, inplace=True)\n",
    "df_hr.rename(columns={'Sample Number:':'Sample Number'}, inplace=True)\n",
    "\n",
    "# Make all sample numbers a 4-digit code starting with F\n",
    "df_ftir['Sample Number'] = df_ftir['Sample Number'].apply(fix_sample_number)\n",
    "df_catalog['Sample Number'] = df_catalog['Sample Number'].apply(fix_sample_number)\n",
    "df_reagent['Sample Number'] = df_reagent['Sample Number'].apply(fix_sample_number)\n",
    "df_hr['Sample Number'] = df_hr['Sample Number'].apply(fix_sample_number)"
   ]
  },
  {
   "cell_type": "code",
   "execution_count": 27,
   "metadata": {},
   "outputs": [
    {
     "name": "stdout",
     "output_type": "stream",
     "text": [
      "Orphaned FTIR sample numbers: set(['F0547'])\n",
      "Orphaned HR sample numbers: set(['F0000'])\n",
      "Please fix orphaned samples\n"
     ]
    }
   ],
   "source": [
    "# Check there are no sample numbers in any of the other spreadsheets that aren't in the cataolog sheet\n",
    "csn = set(df_catalog['Sample Number'].unique())\n",
    "\n",
    "ftir_unique = set(df_ftir['Sample Number'].unique()).difference(csn)\n",
    "if ftir_unique:\n",
    "    print(\"Orphaned FTIR sample numbers: %s\" % ftir_unique)\n",
    "\n",
    "reagent_unique = set(df_reagent['Sample Number'].unique()).difference(csn)\n",
    "if reagent_unique:\n",
    "    print(\"Orphaned Reagent Test sample numbers: %s\" % reagent_unique)\n",
    "\n",
    "hr_unique = set(df_hr['Sample Number'].unique()).difference(csn)\n",
    "if hr_unique:\n",
    "    print(\"Orphaned HR sample numbers: %s\" % hr_unique)\n",
    "\n",
    "ftir_unique.update(reagent_unique, hr_unique)\n",
    "if (ftir_unique):\n",
    "    print(\"Please fix orphaned samples\")\n",
    "    #raise RuntimeError(\"Please fix orphaned samples\")"
   ]
  },
  {
   "attachments": {},
   "cell_type": "markdown",
   "metadata": {},
   "source": [
    "Add FTIR, Reagnent and MAST results to a single spreadsheet\n",
    "From FTIR:\n",
    "'Sample Sold As'\n",
    "'Sample Form'\n",
    "'Has the Service User or a close friend tried this batch?'\n",
    "\n",
    "'Substance detected'\n",
    "'Hit Confidence'\n",
    "'Compound detected'\n",
    "'Hit Confidence'\n",
    "'Is anything detected after subtraction analysis?'\n",
    "'Compound detected (Subtraction)'\n",
    "'Hit Confidence'\n",
    "'Analysis required'\n",
    "'Substance(s) detected'\n",
    "'\"Strength\" of powdered substance'\n",
    "'Does the substance detected match the substance that was advertised?'\n",
    "'Note for harm reduction worker'\n",
    "\n",
    "From Reagent\n",
    "'Sample Sold As'\n",
    "'Sample Form'\n",
    "\n",
    "'Froehde'\n",
    "'Froehde possible substances'\n",
    "'Liebermann'\n",
    "'Liebermann possible substances'\n",
    "'Marquis'\n",
    "'Marquis possible substances'\n",
    "'Mandelin'\n",
    "'Mandelin possible substances'\n",
    "'Ehrlich'\n",
    "'Likely drug or class'\n",
    "'Substance(s) detected'\n",
    "'Does the substance detected match the substance that was advertised?'\n",
    "\n",
    "MAST\n",
    "'You submitted a substance for analysis. What were you told it was when you got it?'\n",
    "'Had you already tried this substance before getting it tested?'\n"
   ]
  },
  {
   "cell_type": "code",
   "execution_count": 28,
   "metadata": {},
   "outputs": [
    {
     "name": "stdout",
     "output_type": "stream",
     "text": [
      "Columns now: Index([u'FTIR timestamp', u'Sample Number', u'FTIR Sold As', u'FTIR form',\n",
      "       u'FTIR tried', u'User Suspicion', u'FTIR result1', u'FTIR hit1',\n",
      "       u'FTIR result2', u'Hit Confidence.2', u'FTIR final result',\n",
      "       u'Powder Strength', u'FTIR Matches Sold As'],\n",
      "      dtype='object')\n"
     ]
    }
   ],
   "source": [
    "# For FTIR columns need to merge the data from the 'Compound detected', 'Hit Confidence.1' columns into the\n",
    "# 'Substance detected', 'Hit Confidence' column where the substance detected was 'other'\n",
    "mask = df_ftir['Substance detected'] != 'Other'\n",
    "df_ftir['Substance detected'].where(mask, df_ftir['Compound detected'], inplace=True) # Copy values from 'Compound detected'\n",
    "df_ftir['Hit Confidence'].where(mask, df_ftir['Hit Confidence.1'], inplace=True)\n",
    "df_ftir.drop(['Compound detected', 'Hit Confidence.1', 'Brief Note'], axis=1, inplace=True)\n",
    "\n",
    "mask = df_ftir['Compound detected (Subtraction)'] != 'Other'\n",
    "df_ftir['Compound detected (Subtraction)'].where(mask, df_ftir['Substance detected.1'], inplace=True) # Copy values from 'Compound detected'\n",
    "df_ftir['Hit Confidence.2'].where(mask, df_ftir['Hit Confidence.3'], inplace=True)\n",
    "df_ftir.drop(['Substance detected.1', 'Hit Confidence.3', 'Brief Note.1'], axis=1, inplace=True)\n",
    "\n",
    "# Drop all unwanted columns\n",
    "l = ['Your name and surname initial',\n",
    "    'Is anything detected after subtraction analysis?',\n",
    "    'Analysis required',\n",
    "    'Note for harm reduction worker'\n",
    "    ]\n",
    "df_ftir.drop(l, axis=1, inplace=True)\n",
    "\n",
    "# Rename shared columns so that we can check for any errors and remove any columns not of interest to the master df\n",
    "d = {\n",
    "    'Timestamp' : 'FTIR timestamp',\n",
    "    'Sample Sold As': 'FTIR Sold As',\n",
    "    'Sample Form' : 'FTIR form',\n",
    "    'Has the Service User or a close friend tried this batch?': 'FTIR tried',\n",
    "    'Substance(s) detected' : 'FTIR final result',\n",
    "    'Substance detected' : 'FTIR result1',\n",
    "    'Hit Confidence' :  'FTIR hit1',\n",
    "    'Is anything detected after subtraction analysis?' : 'FTIR subtraction positive',\n",
    "    'Compound detected (Subtraction)' :  'FTIR result2',\n",
    "    '\"Strength\" of powdered substance' : 'Powder Strength',\n",
    "    'Does the substance detected match the substance that was advertised?' : 'FTIR Matches Sold As',\n",
    "}\n",
    "\n",
    "df_ftir.rename(columns=d, inplace=True)\n",
    "# ftir_columns = ['Sample Number'] + d.values()\n",
    "print(\"Columns now: %s\" % df_ftir.columns)\n",
    "\n"
   ]
  },
  {
   "cell_type": "code",
   "execution_count": 29,
   "metadata": {
    "collapsed": true
   },
   "outputs": [],
   "source": [
    "# Rename FTIR columns to make role clearer\n",
    "df_ftir.to_csv('foo.csv')"
   ]
  },
  {
   "cell_type": "code",
   "execution_count": null,
   "metadata": {
    "collapsed": true
   },
   "outputs": [],
   "source": [
    "# # Merge all the data frames together\n",
    "# dfall = pd.merge(df, lab_df, how='left', on=['Festival'])\n",
    "# print(\"%d entries were merged\" % len(dfa))"
   ]
  }
 ],
 "metadata": {
  "kernelspec": {
   "display_name": "Python 2",
   "language": "python",
   "name": "python2"
  },
  "language_info": {
   "codemirror_mode": {
    "name": "ipython",
    "version": 2
   },
   "file_extension": ".py",
   "mimetype": "text/x-python",
   "name": "python",
   "nbconvert_exporter": "python",
   "pygments_lexer": "ipython2",
   "version": "2.7.13"
  }
 },
 "nbformat": 4,
 "nbformat_minor": 2
}
